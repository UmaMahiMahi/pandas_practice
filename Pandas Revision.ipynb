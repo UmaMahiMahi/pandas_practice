{
 "cells": [
  {
   "cell_type": "markdown",
   "id": "plain-garlic",
   "metadata": {},
   "source": [
    "### Pandas Revision"
   ]
  },
  {
   "cell_type": "code",
   "execution_count": 1,
   "id": "liable-government",
   "metadata": {},
   "outputs": [],
   "source": [
    "import pandas as pd\n",
    "import numpy as np"
   ]
  },
  {
   "cell_type": "markdown",
   "id": "representative-vocabulary",
   "metadata": {},
   "source": [
    "### Two Data Structure"
   ]
  },
  {
   "cell_type": "code",
   "execution_count": null,
   "id": "periodic-installation",
   "metadata": {},
   "outputs": [],
   "source": [
    "1. DataFrame:\n",
    "    \n",
    "2. Series:\n",
    "    "
   ]
  }
 ],
 "metadata": {
  "kernelspec": {
   "display_name": "Python 3",
   "language": "python",
   "name": "python3"
  },
  "language_info": {
   "codemirror_mode": {
    "name": "ipython",
    "version": 3
   },
   "file_extension": ".py",
   "mimetype": "text/x-python",
   "name": "python",
   "nbconvert_exporter": "python",
   "pygments_lexer": "ipython3",
   "version": "3.8.7"
  }
 },
 "nbformat": 4,
 "nbformat_minor": 5
}
