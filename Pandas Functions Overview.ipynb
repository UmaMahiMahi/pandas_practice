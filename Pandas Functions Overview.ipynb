{
 "cells": [
  {
   "cell_type": "markdown",
   "id": "defda683",
   "metadata": {},
   "source": [
    "# Pandas Functions List"
   ]
  },
  {
   "cell_type": "code",
   "execution_count": null,
   "id": "8960f6e2",
   "metadata": {},
   "outputs": [],
   "source": [
    "Pandas is a powerful library in Python for data manipulation and analysis. \n",
    "Here are some commonly used functions and functionalities of Pandas when working with DataFrames:\n",
    "\n",
    "Creating DataFrames:\n",
    "    \n",
    "    pd.DataFrame(data)      : Creates a DataFrame from a dictionary, list, or NumPy array.\n",
    "    pd.read_csv(file_path)  : Reads a CSV file and creates a DataFrame.\n",
    "    pd.read_excel(file_path): Reads an Excel file and creates a DataFrame.\n",
    "\n",
    "Data Inspection:\n",
    "    \n",
    "    df.head(n)   : Returns the first n rows of the DataFrame.\n",
    "    df.tail(n)   : Returns the last n rows of the DataFrame.\n",
    "    df.info()    : Provides information about the DataFrame, such as data types and missing values.\n",
    "    df.describe(): Generates descriptive statistics of the DataFrame.\n",
    "\n",
    "Data Selection and Filtering:\n",
    "    \n",
    "    df[column]                          : Accesses a specific column in the DataFrame.\n",
    "    df.loc[row_indexer, column_indexer] : Accesses specific rows and columns using labels.\n",
    "    df.iloc[row_indexer, column_indexer]: Accesses specific rows and columns using integer-based indexing.\n",
    "    df[df['column'] > value]            : Filters rows based on a specific condition.\n",
    "\n",
    "Data Manipulation:\n",
    "    \n",
    "    df.drop(columns)        : Drops specified columns from the DataFrame.\n",
    "    df.rename(columns={'old_name': 'new_name'}): Renames columns.\n",
    "    df.sort_values(column)  : Sorts the DataFrame by values in a column.\n",
    "    df.groupby(column)      : Groups the DataFrame based on values in a column.\n",
    "    df.merge(other_df)      : Merges two DataFrames based on common columns.\n",
    "\n",
    "Data Cleaning:\n",
    "\n",
    "    df.dropna()            : Drops rows with missing values.\n",
    "    df.fillna(value)       : Fills missing values with a specific value.\n",
    "    df.replace(old_value, new_value): Replaces specific values in the DataFrame.\n",
    "    df.duplicated()        : Returns boolean Series indicating duplicated rows.\n",
    "    df.drop_duplicates()   : Drops duplicated rows.\n",
    "    \n",
    "Data Aggregation:\n",
    "\n",
    "    df.sum()      : Calculates the sum of values in each column.\n",
    "    df.mean()     : Calculates the mean of values in each column.\n",
    "    df.max()      : Finds the maximum values in each column\n",
    "    df.min()      : Finds the minimum values in each column.\n",
    "    df.count()    : Counts non-null values in each column.\n",
    "        \n",
    "Insertion:\n",
    "    df.insert()\n",
    "    df.append()"
   ]
  }
 ],
 "metadata": {
  "kernelspec": {
   "display_name": "Python 3 (ipykernel)",
   "language": "python",
   "name": "python3"
  },
  "language_info": {
   "codemirror_mode": {
    "name": "ipython",
    "version": 3
   },
   "file_extension": ".py",
   "mimetype": "text/x-python",
   "name": "python",
   "nbconvert_exporter": "python",
   "pygments_lexer": "ipython3",
   "version": "3.9.13"
  }
 },
 "nbformat": 4,
 "nbformat_minor": 5
}
