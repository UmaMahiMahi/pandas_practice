{
 "cells": [
  {
   "cell_type": "markdown",
   "id": "acceptable-alexandria",
   "metadata": {},
   "source": [
    "### Pandas"
   ]
  },
  {
   "cell_type": "code",
   "execution_count": null,
   "id": "underlying-patch",
   "metadata": {},
   "outputs": [],
   "source": [
    "pandas >> Python for Data Analysis"
   ]
  },
  {
   "cell_type": "code",
   "execution_count": 1,
   "id": "suspended-jonathan",
   "metadata": {},
   "outputs": [],
   "source": [
    "import pandas as pd\n",
    "import numpy as np"
   ]
  },
  {
   "cell_type": "markdown",
   "id": "forty-browser",
   "metadata": {},
   "source": [
    "### Two Data Structures"
   ]
  },
  {
   "cell_type": "code",
   "execution_count": null,
   "id": "alive-possible",
   "metadata": {},
   "outputs": [],
   "source": [
    "1. DataFrame:\n",
    "    2-dimensional \n",
    "    \n",
    "2. Series:\n",
    "    1-Dimensional\n"
   ]
  },
  {
   "cell_type": "code",
   "execution_count": 2,
   "id": "broke-victim",
   "metadata": {},
   "outputs": [
    {
     "data": {
      "text/html": [
       "<div>\n",
       "<style scoped>\n",
       "    .dataframe tbody tr th:only-of-type {\n",
       "        vertical-align: middle;\n",
       "    }\n",
       "\n",
       "    .dataframe tbody tr th {\n",
       "        vertical-align: top;\n",
       "    }\n",
       "\n",
       "    .dataframe thead th {\n",
       "        text-align: right;\n",
       "    }\n",
       "</style>\n",
       "<table border=\"1\" class=\"dataframe\">\n",
       "  <thead>\n",
       "    <tr style=\"text-align: right;\">\n",
       "      <th></th>\n",
       "    </tr>\n",
       "  </thead>\n",
       "  <tbody>\n",
       "  </tbody>\n",
       "</table>\n",
       "</div>"
      ],
      "text/plain": [
       "Empty DataFrame\n",
       "Columns: []\n",
       "Index: []"
      ]
     },
     "execution_count": 2,
     "metadata": {},
     "output_type": "execute_result"
    }
   ],
   "source": [
    "df = pd.DataFrame()\n",
    "df"
   ]
  },
  {
   "cell_type": "code",
   "execution_count": 4,
   "id": "large-binding",
   "metadata": {},
   "outputs": [
    {
     "data": {
      "text/plain": [
       "Series([], dtype: float64)"
      ]
     },
     "execution_count": 4,
     "metadata": {},
     "output_type": "execute_result"
    }
   ],
   "source": [
    "s1 = pd.Series(dtype=float)\n",
    "s1"
   ]
  },
  {
   "cell_type": "markdown",
   "id": "accomplished-anaheim",
   "metadata": {},
   "source": [
    "### Use Cases of pandas"
   ]
  },
  {
   "cell_type": "code",
   "execution_count": null,
   "id": "cross-antique",
   "metadata": {},
   "outputs": [],
   "source": [
    "1.\n",
    "2.\n"
   ]
  },
  {
   "cell_type": "markdown",
   "id": "peaceful-information",
   "metadata": {},
   "source": [
    "### Create a pandas df and series"
   ]
  },
  {
   "cell_type": "code",
   "execution_count": null,
   "id": "intense-blank",
   "metadata": {},
   "outputs": [],
   "source": [
    "1. list\n",
    "2. tuple\n",
    "3. numpy array\n",
    "4. dictionary\n",
    "5. csv files\n",
    "6. excel files\n",
    "7. databases\n",
    "8. json"
   ]
  },
  {
   "cell_type": "markdown",
   "id": "grateful-negotiation",
   "metadata": {},
   "source": [
    "### Pandas Functions"
   ]
  },
  {
   "cell_type": "code",
   "execution_count": 8,
   "id": "elegant-coaching",
   "metadata": {},
   "outputs": [
    {
     "data": {
      "text/html": [
       "<div>\n",
       "<style scoped>\n",
       "    .dataframe tbody tr th:only-of-type {\n",
       "        vertical-align: middle;\n",
       "    }\n",
       "\n",
       "    .dataframe tbody tr th {\n",
       "        vertical-align: top;\n",
       "    }\n",
       "\n",
       "    .dataframe thead th {\n",
       "        text-align: right;\n",
       "    }\n",
       "</style>\n",
       "<table border=\"1\" class=\"dataframe\">\n",
       "  <thead>\n",
       "    <tr style=\"text-align: right;\">\n",
       "      <th></th>\n",
       "      <th>A</th>\n",
       "      <th>B</th>\n",
       "      <th>C</th>\n",
       "      <th>D</th>\n",
       "    </tr>\n",
       "  </thead>\n",
       "  <tbody>\n",
       "    <tr>\n",
       "      <th>p</th>\n",
       "      <td>19</td>\n",
       "      <td>28</td>\n",
       "      <td>11</td>\n",
       "      <td>25</td>\n",
       "    </tr>\n",
       "    <tr>\n",
       "      <th>y</th>\n",
       "      <td>28</td>\n",
       "      <td>27</td>\n",
       "      <td>29</td>\n",
       "      <td>20</td>\n",
       "    </tr>\n",
       "    <tr>\n",
       "      <th>t</th>\n",
       "      <td>22</td>\n",
       "      <td>23</td>\n",
       "      <td>17</td>\n",
       "      <td>25</td>\n",
       "    </tr>\n",
       "    <tr>\n",
       "      <th>h</th>\n",
       "      <td>21</td>\n",
       "      <td>20</td>\n",
       "      <td>17</td>\n",
       "      <td>17</td>\n",
       "    </tr>\n",
       "    <tr>\n",
       "      <th>o</th>\n",
       "      <td>12</td>\n",
       "      <td>13</td>\n",
       "      <td>25</td>\n",
       "      <td>29</td>\n",
       "    </tr>\n",
       "    <tr>\n",
       "      <th>n</th>\n",
       "      <td>21</td>\n",
       "      <td>24</td>\n",
       "      <td>26</td>\n",
       "      <td>27</td>\n",
       "    </tr>\n",
       "  </tbody>\n",
       "</table>\n",
       "</div>"
      ],
      "text/plain": [
       "    A   B   C   D\n",
       "p  19  28  11  25\n",
       "y  28  27  29  20\n",
       "t  22  23  17  25\n",
       "h  21  20  17  17\n",
       "o  12  13  25  29\n",
       "n  21  24  26  27"
      ]
     },
     "execution_count": 8,
     "metadata": {},
     "output_type": "execute_result"
    }
   ],
   "source": [
    "df = pd.DataFrame(np.random.randint(10,30, size = (6,4)), columns=list('ABCD'),\n",
    "                 index = list('python'))\n",
    "df"
   ]
  },
  {
   "cell_type": "code",
   "execution_count": null,
   "id": "quality-championship",
   "metadata": {},
   "outputs": [],
   "source": [
    "1. df.columns\n",
    "2. df.index\n",
    "3. df.axes\n",
    "4. df.dtypes\n",
    "5. df.select_dtypes(include=[], exclude=[])\n",
    "6. df.info()\n",
    "7. df.describe()\n",
    "8. df.shape:\n",
    "    col_count = df.shape[1]\n",
    "    row_coutn = df.shape[0]\n"
   ]
  },
  {
   "cell_type": "markdown",
   "id": "separate-bicycle",
   "metadata": {},
   "source": [
    "### Access Values from Dataframe and Series"
   ]
  },
  {
   "cell_type": "code",
   "execution_count": null,
   "id": "fitted-former",
   "metadata": {},
   "outputs": [],
   "source": [
    "1. df['ColName']  # Series\n",
    "   df[['Col1']]  # DataFrame \n",
    "   df[['Col1', 'Col2',..., 'ColN']] # DatFrame\n",
    "\n",
    "   df.colName\n",
    "\n",
    "2. df[start_index : end_index]\n",
    "\n",
    "3. iloc:\n",
    "    df.iloc[row_start_index : row_end_index] # Specific rows with all columns \n",
    "    df.iloc[row_start_index : row_end_index, col_start_index: col_end_index] \n",
    "    # Specific rows with all columns \n",
    "    df.iloc[2:7, 1:4] # 5 rows and 3 columns\n",
    "    df.iloc[[2,5,6], [0,1,4]]\n",
    "    df.iloc[:, [2,5,6]]\n",
    "    \n",
    "4. loc:\n",
    "    df.loc[row_start_label : row_end_label] # Specific rows with all columns \n",
    "    df.loc[row_start_label : row_end_label, col_start_label: col_end_label] \n",
    "    df.loc[['RowLabel1', 'RowLabel3'], ['ColName1', 'ColName6']]\n",
    "    df.loc['RowLabel1':'RowLabel8', :]\n",
    "    df.loc[:, 'ColName3' : 'ColName6']\n",
    "    \n",
    "5. df.head() # First 5 rows\n",
    "\n",
    "6. df.tail() # Last 5 rows\n",
    "\n"
   ]
  },
  {
   "cell_type": "markdown",
   "id": "ordered-baker",
   "metadata": {},
   "source": [
    "#### Access rows and Columns by using for Loop"
   ]
  },
  {
   "cell_type": "code",
   "execution_count": null,
   "id": "living-alias",
   "metadata": {},
   "outputs": [],
   "source": [
    "1. for col_name in df:\n",
    "    print(\"Col Name\")\n",
    "    \n",
    "2. df.items() # used to access columns\n",
    "3. df.iteritems()\n",
    "4. df.iterrows()\n",
    "\n",
    "for col_name,col_data in df.iteitems():\n",
    "    print(col_name, col_data)\n",
    "    print(\"*\"*30)"
   ]
  },
  {
   "cell_type": "markdown",
   "id": "biological-credit",
   "metadata": {},
   "source": [
    "### DataFrame/Series to Numpy array to List"
   ]
  },
  {
   "cell_type": "code",
   "execution_count": null,
   "id": "interested-consciousness",
   "metadata": {},
   "outputs": [],
   "source": [
    "DataFrame to Numpy:\n",
    "    1. df.values\n",
    "    2. df.to_numpy()\n",
    "    \n",
    "DataFrame to List:\n",
    "    1. df.values.tolist()\n",
    "    2. df.to_numpy().tolist()\n",
    "    \n",
    "Series to Numpy:\n",
    "    1. s1.values\n",
    "    2. s1.to_numpy()\n",
    "    \n",
    "Series to List:\n",
    "    1. s1.values.tolist()\n",
    "    2. s1.to_numpy().tolist()"
   ]
  },
  {
   "cell_type": "markdown",
   "id": "administrative-international",
   "metadata": {},
   "source": [
    "### Statistics"
   ]
  },
  {
   "cell_type": "code",
   "execution_count": null,
   "id": "german-maker",
   "metadata": {},
   "outputs": [],
   "source": [
    "describe:\n",
    "    df.describe()\n",
    "    \n",
    "1. Series:\n",
    "    1. df['ColName'].mean()\n",
    "    2. df['ColName'].median()\n",
    "    3. df['ColName'].mode()[0]\n",
    "    4. df['ColName'].std()\n",
    "    5. df['ColName'].var()\n",
    "    6. df['ColName'].min()\n",
    "    7. df['ColName'].max()\n",
    "    8. df['ColName'].sum()\n",
    "    \n",
    "2. Quantiles:\n",
    "    1. df['ColName'].quantile(0.25)\n",
    "    2. df['ColName'].quantile(0.50)\n",
    "    3. df['ColName'].quantile(0.75)\n",
    "    4. df['ColName'].quantile(0.05)\n",
    "    5. df['ColName'].quantile(0.95)\n",
    "    \n",
    "3. DataFrame:\n",
    "    1. df.mean()\n",
    "    2. df.median()\n",
    "    3. df.mode()[0]\n",
    "    4. df.std()\n",
    "    5. df.var()\n",
    "    6. df.min()\n",
    "    7. df.max()\n",
    "    8. df.sum()\n",
    "    "
   ]
  },
  {
   "cell_type": "markdown",
   "id": "undefined-directive",
   "metadata": {},
   "source": [
    "### Handling of Missing Values:"
   ]
  },
  {
   "cell_type": "code",
   "execution_count": null,
   "id": "entitled-snapshot",
   "metadata": {},
   "outputs": [],
   "source": [
    "1. Detect Missing values:\n",
    "    1. df.isna()\n",
    "    2. df.isnull()\n",
    "    3. df.isna().sum()\n",
    "    4. df.isnull().sum()\n",
    "    5. df.isna().mean() * 100\n",
    "    \n",
    "2. Drop Null Values:\n",
    "    1. df.dropna(axis = 0, thresh=df.shape[1], inplace=True)\n",
    "    2. df.dropna(axis = 1, thresh=df.shape[0], inplace=True)\n",
    "    \n",
    "3. drop Columns/Rows:\n",
    "    1. df.drop('ColName', axis = 1, inplace = True/False)\n",
    "    1. df.drop('RowName', axis = 0, inplace = True)\n",
    "    1. df.drop(['ColName1','ColName4','ColName9'], axis = 1, inplace = True)\n",
    "    1. df.drop(['RowName0','RowName4','RowName5'], axis = 0, inplace = True)\n",
    "    \n",
    "4. Fill Missing Values:\n",
    "    1. df.fillna(100, inplace = True)\n",
    "    2. df['ColName'].fillna(stats,inplace = True)\n",
    "    # stats >>> mean, median, mode\n",
    "    \n",
    "    "
   ]
  },
  {
   "cell_type": "markdown",
   "id": "cooked-montreal",
   "metadata": {},
   "source": [
    "### Pandas Other Functions"
   ]
  },
  {
   "cell_type": "code",
   "execution_count": null,
   "id": "auburn-acoustic",
   "metadata": {},
   "outputs": [],
   "source": [
    "1. df['ColName'].unique() # Specifically used for categorical Data\n",
    "2. df['ColName'].nunique()\n",
    "3. df['ColName'].value_counts()\n",
    "4. pd.crosstab(df['Col1'], df['Col2']) # Categorical data\n",
    "\n",
    "5. replace:\n",
    "    1. df.replace({dict}, inplace = True)\n",
    "    2. df['ColName'].replace({dict}, inplace = True)\n",
    "    \n",
    "6. map:\n",
    "    1. df.map({dict}, inplace = True)\n",
    "    2. df['ColName'].map({dict}, inplace = True)\n",
    "    \n",
    "7. astype:\n",
    "    df['ColName'].astype(DataType)\n",
    "    df['ColName'].astype(int)\n",
    "    df['ColName'].astype(float)\n",
    "    df['ColName'].astype(object)\n",
    "    df['ColName'] = df['ColName'].astype(object)\n",
    "    \n",
    "8. rename:\n",
    "    1. df.rename({Row_Labels}, axis = 0, inplace = True)\n",
    "    2. df.rename({Col_Labels}, axis = 1, inplace = True)\n",
    "    \n",
    "9. One Hot Encoding:\n",
    "    df_colName = pd.get_dummies(df['ColName'], prefix='COlName')\n",
    "    df = pd.get_dummies(df, columns=['CatCol1', 'CatCol2'])\n",
    "    \n",
    "10. drop_duplicates:\n",
    "    df.drop_duplicates(keep = 'first')\n",
    "    df.drop_duplicates(keep = 'last')\n",
    "    \n",
    "11. apply:\n",
    "    df.apply(function_name)\n",
    "    df['ColName'].apply(function_name)\n",
    "    \n",
    "12. aggregate:\n",
    "    df.agg([np.mean,np.median, np.max])\n",
    "    df.aggregate(['mean','median', 'std', 'var','sum', 'min', 'max'])\n",
    "    \n",
    "13. np.where():\n",
    "    np.where(condition, [True, False])\n",
    "    np.where(condition, [100, df['ColName']])\n",
    "    \n",
    "14. insert:\n",
    "    df.insert(index_Num, 'ColName', value)\n",
    "    df.insert(index_Num, 'ColName', [1,3,5,7])\n",
    "    df.insert(index_Num, 'ColName', pd.Series(), allow_duplicates=True)\n",
    "    \n",
    "15. skew():\n",
    "    df['ColName'].skew()"
   ]
  },
  {
   "cell_type": "markdown",
   "id": "defined-henry",
   "metadata": {},
   "source": [
    "### Sorting"
   ]
  },
  {
   "cell_type": "code",
   "execution_count": null,
   "id": "impressed-merit",
   "metadata": {},
   "outputs": [],
   "source": [
    "1. df.sort_index(axis = 0)\n",
    "2. sort_values():\n",
    "    df.sort_values(\"ColName\") # DataFrame\n",
    "    df.sort_values(['Col1','Col4'])\n",
    "    df['ColNmae'].sort_values() # Series\n",
    "    \n",
    "3. df.reset_index(drop = True)\n",
    "4. df.set_index('ColName')\n",
    "\n",
    "5. df['ColName'].plot(kind = 'bar')\n",
    "   df['ColName'].plot(kind = 'barh')"
   ]
  },
  {
   "cell_type": "markdown",
   "id": "immune-armstrong",
   "metadata": {},
   "source": [
    "### Groupby and Loc"
   ]
  },
  {
   "cell_type": "code",
   "execution_count": null,
   "id": "swedish-ukraine",
   "metadata": {},
   "outputs": [],
   "source": [
    "1. groupby:\n",
    "    1. df.groupby().groups # dict\n",
    "    1. df.groupby().groups.keys()\n",
    "    1. df.groupby('ColName').first()\n",
    "    1. df.groupby('ColName').get_group('Value')\n",
    "    1. df.groupby(['Col1', 'Col2']).get_group(('Col1_value', 'Col2_value'))\n",
    "    \n",
    "2. loc:\n",
    "    1. df.loc[condition] # It return only True Values\n",
    "    2. df.loc[df['Col1'] == 10]\n",
    "    3. df.loc[(df['Col1'] == 10) \n",
    "          & (df['Col2'] == 'Cat_value')\n",
    "            & (df['Col5'] == 200)]\n",
    "        \n",
    "    4. df.loc[(df['Col1'] == 10) \n",
    "      & ((df['Col2'] == 'Cat_value')\n",
    "        & (df['Col5'] == 200))]\n",
    "    \n",
    "    5. df.loc[df[\"ColName\"].isin([Values])]\n",
    "    \n",
    "3. df[\"ColName\"].isin([Values])"
   ]
  },
  {
   "cell_type": "markdown",
   "id": "smooth-coast",
   "metadata": {},
   "source": [
    "### DateTime"
   ]
  },
  {
   "cell_type": "code",
   "execution_count": null,
   "id": "fewer-warner",
   "metadata": {},
   "outputs": [],
   "source": [
    "Datetime:\n",
    "    pd.to_datetime(df['DateColumn'], format='DateFormat')\n",
    "    \n",
    "    date = '26-05-2023'\n",
    "    \n",
    "    pd.to_datetime(df['DateColumn'], format='%d-%m-%Y')"
   ]
  },
  {
   "cell_type": "markdown",
   "id": "different-lounge",
   "metadata": {},
   "source": [
    "## Read and Write DataFrames:"
   ]
  },
  {
   "cell_type": "code",
   "execution_count": null,
   "id": "transparent-operation",
   "metadata": {},
   "outputs": [],
   "source": [
    "1. df = pd.read_csv('csv_file_path.csv',usecols=['Col1', 'Col3'],\n",
    "                   index_col='ColName', header=None, delimiter = ',|')\n",
    "\n",
    "2. df.to_csv('csv_file_path.csv', index = True/False, header=True/False)\n",
    "\n",
    "3. df = pd.read_excel('excel_file_path.xlsx',usecols=['Col1', 'Col3'],\n",
    "                   index_col='ColName', header=None, \n",
    "                     sheet_name = 'Sheet_Name')\n",
    "\n",
    "4. Create Excel File:\n",
    "    1. Single Sheet Excel File:\n",
    "        df.to_excel('excel_file_path.xlsx',\n",
    "                   index = True, header=True/False)\n",
    "        \n",
    "    2. Excel with multiple sheets:\n",
    "        1. writer = pd.ExcelWriter('excel_file_path.xlsx', engine='xlsxwriter')\n",
    "        2. df1.to_excel(writer,sheet_name='Sheet1', index = True, header=True/False)\n",
    "        3. df2.to_excel(writer,sheet_name='Sheet1', index = True, header=True/False)\n",
    "        4. df3.to_excel(writer,sheet_name='Sheet1', index = True, header=True/False)\n",
    "        5. df4.to_excel(writer,sheet_name='Sheet1', index = True, header=True/False)\n",
    "        6. writer.close() # new version\n",
    "           writer.close() # old version\n",
    "        \n",
    "5. create dict:\n",
    "    1. df.to_dict(orient=['list', 'records', 'dict', 'index'])\n",
    "    \n",
    "6. Create JSON File:\n",
    "    1. df.to_json('json_file_name.json', orient=['records', 'index'])\n",
    "    \n",
    "7. Read JSON File:\n",
    "    1. pd.read_json('json_file_name.json')"
   ]
  },
  {
   "cell_type": "markdown",
   "id": "impressed-landscape",
   "metadata": {},
   "source": [
    "### Join Multiple DataFrames"
   ]
  },
  {
   "cell_type": "code",
   "execution_count": null,
   "id": "returning-desert",
   "metadata": {},
   "outputs": [],
   "source": [
    "1. append(): To add rows\n",
    "    1. df1.append(df2, ignore_index = True, sort = True)\n",
    "    \n",
    "2. concat():\n",
    "    pd.concat([df1,df2, ...,dfN], axis = 0, join = 'outer',ignore_index = True, sort = True)\n",
    "    axis = 0 >> ROws\n",
    "    axis = 1 >> Columns\n",
    "    \n",
    "3. merge():\n",
    "    pd.merge(left_df, right_df, how = 'inner', on = \"Interected Column Name\", \n",
    "            suffixes=['_df1','_df2'])\n",
    "    \n",
    "    pd.merge(left_df, right_df, how = 'inner', left_on = \"Column Name from Left Df\", \n",
    "             right_on = \"Column Name from RIght df\"\n",
    "            suffixes=['_df1','_df2'])\n",
    "    \n",
    "    how = ['inner', 'outer', 'left', 'right']\n",
    "\n",
    "4. join():\n",
    "    left_df.join(right_df, how = 'left', lsuffix = '_df1', rsuffix = '_df2')"
   ]
  },
  {
   "cell_type": "code",
   "execution_count": null,
   "id": "protecting-indianapolis",
   "metadata": {},
   "outputs": [],
   "source": []
  },
  {
   "cell_type": "code",
   "execution_count": null,
   "id": "facial-satellite",
   "metadata": {},
   "outputs": [],
   "source": []
  },
  {
   "cell_type": "code",
   "execution_count": 41,
   "id": "lasting-dynamics",
   "metadata": {},
   "outputs": [
    {
     "data": {
      "text/plain": [
       "'1.4.3'"
      ]
     },
     "execution_count": 41,
     "metadata": {},
     "output_type": "execute_result"
    }
   ],
   "source": [
    "pd.__version__"
   ]
  },
  {
   "cell_type": "code",
   "execution_count": 42,
   "id": "incorrect-calendar",
   "metadata": {},
   "outputs": [
    {
     "data": {
      "text/plain": [
       "'1.21.2'"
      ]
     },
     "execution_count": 42,
     "metadata": {},
     "output_type": "execute_result"
    }
   ],
   "source": [
    "np.__version__"
   ]
  },
  {
   "cell_type": "code",
   "execution_count": 9,
   "id": "instrumental-favor",
   "metadata": {},
   "outputs": [
    {
     "name": "stdout",
     "output_type": "stream",
     "text": [
      "<class 'pandas.core.frame.DataFrame'>\n",
      "Index: 6 entries, p to n\n",
      "Data columns (total 4 columns):\n",
      " #   Column  Non-Null Count  Dtype\n",
      "---  ------  --------------  -----\n",
      " 0   A       6 non-null      int32\n",
      " 1   B       6 non-null      int32\n",
      " 2   C       6 non-null      int32\n",
      " 3   D       6 non-null      int32\n",
      "dtypes: int32(4)\n",
      "memory usage: 144.0+ bytes\n"
     ]
    }
   ],
   "source": [
    "df.info()"
   ]
  },
  {
   "cell_type": "code",
   "execution_count": 10,
   "id": "ordered-delta",
   "metadata": {},
   "outputs": [
    {
     "data": {
      "text/html": [
       "<div>\n",
       "<style scoped>\n",
       "    .dataframe tbody tr th:only-of-type {\n",
       "        vertical-align: middle;\n",
       "    }\n",
       "\n",
       "    .dataframe tbody tr th {\n",
       "        vertical-align: top;\n",
       "    }\n",
       "\n",
       "    .dataframe thead th {\n",
       "        text-align: right;\n",
       "    }\n",
       "</style>\n",
       "<table border=\"1\" class=\"dataframe\">\n",
       "  <thead>\n",
       "    <tr style=\"text-align: right;\">\n",
       "      <th></th>\n",
       "      <th>A</th>\n",
       "      <th>B</th>\n",
       "      <th>C</th>\n",
       "      <th>D</th>\n",
       "    </tr>\n",
       "  </thead>\n",
       "  <tbody>\n",
       "    <tr>\n",
       "      <th>count</th>\n",
       "      <td>6.000000</td>\n",
       "      <td>6.000000</td>\n",
       "      <td>6.000000</td>\n",
       "      <td>6.000000</td>\n",
       "    </tr>\n",
       "    <tr>\n",
       "      <th>mean</th>\n",
       "      <td>20.500000</td>\n",
       "      <td>22.500000</td>\n",
       "      <td>20.833333</td>\n",
       "      <td>23.833333</td>\n",
       "    </tr>\n",
       "    <tr>\n",
       "      <th>std</th>\n",
       "      <td>5.167204</td>\n",
       "      <td>5.468089</td>\n",
       "      <td>6.882345</td>\n",
       "      <td>4.490731</td>\n",
       "    </tr>\n",
       "    <tr>\n",
       "      <th>min</th>\n",
       "      <td>12.000000</td>\n",
       "      <td>13.000000</td>\n",
       "      <td>11.000000</td>\n",
       "      <td>17.000000</td>\n",
       "    </tr>\n",
       "    <tr>\n",
       "      <th>25%</th>\n",
       "      <td>19.500000</td>\n",
       "      <td>20.750000</td>\n",
       "      <td>17.000000</td>\n",
       "      <td>21.250000</td>\n",
       "    </tr>\n",
       "    <tr>\n",
       "      <th>50%</th>\n",
       "      <td>21.000000</td>\n",
       "      <td>23.500000</td>\n",
       "      <td>21.000000</td>\n",
       "      <td>25.000000</td>\n",
       "    </tr>\n",
       "    <tr>\n",
       "      <th>75%</th>\n",
       "      <td>21.750000</td>\n",
       "      <td>26.250000</td>\n",
       "      <td>25.750000</td>\n",
       "      <td>26.500000</td>\n",
       "    </tr>\n",
       "    <tr>\n",
       "      <th>max</th>\n",
       "      <td>28.000000</td>\n",
       "      <td>28.000000</td>\n",
       "      <td>29.000000</td>\n",
       "      <td>29.000000</td>\n",
       "    </tr>\n",
       "  </tbody>\n",
       "</table>\n",
       "</div>"
      ],
      "text/plain": [
       "               A          B          C          D\n",
       "count   6.000000   6.000000   6.000000   6.000000\n",
       "mean   20.500000  22.500000  20.833333  23.833333\n",
       "std     5.167204   5.468089   6.882345   4.490731\n",
       "min    12.000000  13.000000  11.000000  17.000000\n",
       "25%    19.500000  20.750000  17.000000  21.250000\n",
       "50%    21.000000  23.500000  21.000000  25.000000\n",
       "75%    21.750000  26.250000  25.750000  26.500000\n",
       "max    28.000000  28.000000  29.000000  29.000000"
      ]
     },
     "execution_count": 10,
     "metadata": {},
     "output_type": "execute_result"
    }
   ],
   "source": [
    "df.describe()"
   ]
  },
  {
   "cell_type": "code",
   "execution_count": 36,
   "id": "durable-namibia",
   "metadata": {},
   "outputs": [
    {
     "data": {
      "text/plain": [
       "array([19, 28, 22, 21, 12, 21])"
      ]
     },
     "execution_count": 36,
     "metadata": {},
     "output_type": "execute_result"
    }
   ],
   "source": [
    "df['A'].values"
   ]
  },
  {
   "cell_type": "code",
   "execution_count": 38,
   "id": "italic-express",
   "metadata": {},
   "outputs": [
    {
     "data": {
      "text/plain": [
       "array([19, 28, 22, 21, 12, 21])"
      ]
     },
     "execution_count": 38,
     "metadata": {},
     "output_type": "execute_result"
    }
   ],
   "source": [
    "df['A'].to_numpy()"
   ]
  },
  {
   "cell_type": "code",
   "execution_count": 16,
   "id": "ruled-activation",
   "metadata": {},
   "outputs": [
    {
     "data": {
      "text/html": [
       "<div>\n",
       "<style scoped>\n",
       "    .dataframe tbody tr th:only-of-type {\n",
       "        vertical-align: middle;\n",
       "    }\n",
       "\n",
       "    .dataframe tbody tr th {\n",
       "        vertical-align: top;\n",
       "    }\n",
       "\n",
       "    .dataframe thead th {\n",
       "        text-align: right;\n",
       "    }\n",
       "</style>\n",
       "<table border=\"1\" class=\"dataframe\">\n",
       "  <thead>\n",
       "    <tr style=\"text-align: right;\">\n",
       "      <th></th>\n",
       "      <th>A</th>\n",
       "      <th>B</th>\n",
       "    </tr>\n",
       "  </thead>\n",
       "  <tbody>\n",
       "    <tr>\n",
       "      <th>p</th>\n",
       "      <td>19</td>\n",
       "      <td>28</td>\n",
       "    </tr>\n",
       "    <tr>\n",
       "      <th>y</th>\n",
       "      <td>28</td>\n",
       "      <td>27</td>\n",
       "    </tr>\n",
       "    <tr>\n",
       "      <th>t</th>\n",
       "      <td>22</td>\n",
       "      <td>23</td>\n",
       "    </tr>\n",
       "    <tr>\n",
       "      <th>h</th>\n",
       "      <td>21</td>\n",
       "      <td>20</td>\n",
       "    </tr>\n",
       "    <tr>\n",
       "      <th>o</th>\n",
       "      <td>12</td>\n",
       "      <td>13</td>\n",
       "    </tr>\n",
       "    <tr>\n",
       "      <th>n</th>\n",
       "      <td>21</td>\n",
       "      <td>24</td>\n",
       "    </tr>\n",
       "  </tbody>\n",
       "</table>\n",
       "</div>"
      ],
      "text/plain": [
       "    A   B\n",
       "p  19  28\n",
       "y  28  27\n",
       "t  22  23\n",
       "h  21  20\n",
       "o  12  13\n",
       "n  21  24"
      ]
     },
     "execution_count": 16,
     "metadata": {},
     "output_type": "execute_result"
    }
   ],
   "source": [
    "df[['A', 'B']]"
   ]
  },
  {
   "cell_type": "code",
   "execution_count": 17,
   "id": "grateful-session",
   "metadata": {},
   "outputs": [
    {
     "data": {
      "text/html": [
       "<div>\n",
       "<style scoped>\n",
       "    .dataframe tbody tr th:only-of-type {\n",
       "        vertical-align: middle;\n",
       "    }\n",
       "\n",
       "    .dataframe tbody tr th {\n",
       "        vertical-align: top;\n",
       "    }\n",
       "\n",
       "    .dataframe thead th {\n",
       "        text-align: right;\n",
       "    }\n",
       "</style>\n",
       "<table border=\"1\" class=\"dataframe\">\n",
       "  <thead>\n",
       "    <tr style=\"text-align: right;\">\n",
       "      <th></th>\n",
       "      <th>A</th>\n",
       "    </tr>\n",
       "  </thead>\n",
       "  <tbody>\n",
       "    <tr>\n",
       "      <th>p</th>\n",
       "      <td>19</td>\n",
       "    </tr>\n",
       "    <tr>\n",
       "      <th>y</th>\n",
       "      <td>28</td>\n",
       "    </tr>\n",
       "    <tr>\n",
       "      <th>t</th>\n",
       "      <td>22</td>\n",
       "    </tr>\n",
       "    <tr>\n",
       "      <th>h</th>\n",
       "      <td>21</td>\n",
       "    </tr>\n",
       "    <tr>\n",
       "      <th>o</th>\n",
       "      <td>12</td>\n",
       "    </tr>\n",
       "    <tr>\n",
       "      <th>n</th>\n",
       "      <td>21</td>\n",
       "    </tr>\n",
       "  </tbody>\n",
       "</table>\n",
       "</div>"
      ],
      "text/plain": [
       "    A\n",
       "p  19\n",
       "y  28\n",
       "t  22\n",
       "h  21\n",
       "o  12\n",
       "n  21"
      ]
     },
     "execution_count": 17,
     "metadata": {},
     "output_type": "execute_result"
    }
   ],
   "source": [
    "df[['A']]"
   ]
  },
  {
   "cell_type": "code",
   "execution_count": 19,
   "id": "available-incident",
   "metadata": {},
   "outputs": [
    {
     "data": {
      "text/html": [
       "<div>\n",
       "<style scoped>\n",
       "    .dataframe tbody tr th:only-of-type {\n",
       "        vertical-align: middle;\n",
       "    }\n",
       "\n",
       "    .dataframe tbody tr th {\n",
       "        vertical-align: top;\n",
       "    }\n",
       "\n",
       "    .dataframe thead th {\n",
       "        text-align: right;\n",
       "    }\n",
       "</style>\n",
       "<table border=\"1\" class=\"dataframe\">\n",
       "  <thead>\n",
       "    <tr style=\"text-align: right;\">\n",
       "      <th></th>\n",
       "      <th>A</th>\n",
       "      <th>B</th>\n",
       "      <th>C</th>\n",
       "      <th>D</th>\n",
       "    </tr>\n",
       "  </thead>\n",
       "  <tbody>\n",
       "    <tr>\n",
       "      <th>t</th>\n",
       "      <td>22</td>\n",
       "      <td>23</td>\n",
       "      <td>17</td>\n",
       "      <td>25</td>\n",
       "    </tr>\n",
       "    <tr>\n",
       "      <th>h</th>\n",
       "      <td>21</td>\n",
       "      <td>20</td>\n",
       "      <td>17</td>\n",
       "      <td>17</td>\n",
       "    </tr>\n",
       "    <tr>\n",
       "      <th>o</th>\n",
       "      <td>12</td>\n",
       "      <td>13</td>\n",
       "      <td>25</td>\n",
       "      <td>29</td>\n",
       "    </tr>\n",
       "  </tbody>\n",
       "</table>\n",
       "</div>"
      ],
      "text/plain": [
       "    A   B   C   D\n",
       "t  22  23  17  25\n",
       "h  21  20  17  17\n",
       "o  12  13  25  29"
      ]
     },
     "execution_count": 19,
     "metadata": {},
     "output_type": "execute_result"
    }
   ],
   "source": [
    "df[2:5]"
   ]
  },
  {
   "cell_type": "code",
   "execution_count": 21,
   "id": "talented-tennessee",
   "metadata": {},
   "outputs": [
    {
     "data": {
      "text/html": [
       "<div>\n",
       "<style scoped>\n",
       "    .dataframe tbody tr th:only-of-type {\n",
       "        vertical-align: middle;\n",
       "    }\n",
       "\n",
       "    .dataframe tbody tr th {\n",
       "        vertical-align: top;\n",
       "    }\n",
       "\n",
       "    .dataframe thead th {\n",
       "        text-align: right;\n",
       "    }\n",
       "</style>\n",
       "<table border=\"1\" class=\"dataframe\">\n",
       "  <thead>\n",
       "    <tr style=\"text-align: right;\">\n",
       "      <th></th>\n",
       "      <th>A</th>\n",
       "      <th>B</th>\n",
       "      <th>C</th>\n",
       "      <th>D</th>\n",
       "    </tr>\n",
       "  </thead>\n",
       "  <tbody>\n",
       "    <tr>\n",
       "      <th>t</th>\n",
       "      <td>22</td>\n",
       "      <td>23</td>\n",
       "      <td>17</td>\n",
       "      <td>25</td>\n",
       "    </tr>\n",
       "  </tbody>\n",
       "</table>\n",
       "</div>"
      ],
      "text/plain": [
       "    A   B   C   D\n",
       "t  22  23  17  25"
      ]
     },
     "execution_count": 21,
     "metadata": {},
     "output_type": "execute_result"
    }
   ],
   "source": [
    "df[2:3]"
   ]
  },
  {
   "cell_type": "code",
   "execution_count": 23,
   "id": "completed-reserve",
   "metadata": {},
   "outputs": [
    {
     "data": {
      "text/html": [
       "<div>\n",
       "<style scoped>\n",
       "    .dataframe tbody tr th:only-of-type {\n",
       "        vertical-align: middle;\n",
       "    }\n",
       "\n",
       "    .dataframe tbody tr th {\n",
       "        vertical-align: top;\n",
       "    }\n",
       "\n",
       "    .dataframe thead th {\n",
       "        text-align: right;\n",
       "    }\n",
       "</style>\n",
       "<table border=\"1\" class=\"dataframe\">\n",
       "  <thead>\n",
       "    <tr style=\"text-align: right;\">\n",
       "      <th></th>\n",
       "      <th>A</th>\n",
       "      <th>B</th>\n",
       "      <th>C</th>\n",
       "      <th>D</th>\n",
       "    </tr>\n",
       "  </thead>\n",
       "  <tbody>\n",
       "    <tr>\n",
       "      <th>p</th>\n",
       "      <td>19</td>\n",
       "      <td>28</td>\n",
       "      <td>11</td>\n",
       "      <td>25</td>\n",
       "    </tr>\n",
       "    <tr>\n",
       "      <th>y</th>\n",
       "      <td>28</td>\n",
       "      <td>27</td>\n",
       "      <td>29</td>\n",
       "      <td>20</td>\n",
       "    </tr>\n",
       "    <tr>\n",
       "      <th>t</th>\n",
       "      <td>22</td>\n",
       "      <td>23</td>\n",
       "      <td>17</td>\n",
       "      <td>25</td>\n",
       "    </tr>\n",
       "    <tr>\n",
       "      <th>h</th>\n",
       "      <td>21</td>\n",
       "      <td>20</td>\n",
       "      <td>17</td>\n",
       "      <td>17</td>\n",
       "    </tr>\n",
       "    <tr>\n",
       "      <th>o</th>\n",
       "      <td>12</td>\n",
       "      <td>13</td>\n",
       "      <td>25</td>\n",
       "      <td>29</td>\n",
       "    </tr>\n",
       "    <tr>\n",
       "      <th>n</th>\n",
       "      <td>21</td>\n",
       "      <td>24</td>\n",
       "      <td>26</td>\n",
       "      <td>27</td>\n",
       "    </tr>\n",
       "  </tbody>\n",
       "</table>\n",
       "</div>"
      ],
      "text/plain": [
       "    A   B   C   D\n",
       "p  19  28  11  25\n",
       "y  28  27  29  20\n",
       "t  22  23  17  25\n",
       "h  21  20  17  17\n",
       "o  12  13  25  29\n",
       "n  21  24  26  27"
      ]
     },
     "execution_count": 23,
     "metadata": {},
     "output_type": "execute_result"
    }
   ],
   "source": [
    "df"
   ]
  },
  {
   "cell_type": "code",
   "execution_count": 26,
   "id": "superb-donna",
   "metadata": {},
   "outputs": [
    {
     "data": {
      "text/html": [
       "<div>\n",
       "<style scoped>\n",
       "    .dataframe tbody tr th:only-of-type {\n",
       "        vertical-align: middle;\n",
       "    }\n",
       "\n",
       "    .dataframe tbody tr th {\n",
       "        vertical-align: top;\n",
       "    }\n",
       "\n",
       "    .dataframe thead th {\n",
       "        text-align: right;\n",
       "    }\n",
       "</style>\n",
       "<table border=\"1\" class=\"dataframe\">\n",
       "  <thead>\n",
       "    <tr style=\"text-align: right;\">\n",
       "      <th></th>\n",
       "      <th>B</th>\n",
       "      <th>D</th>\n",
       "    </tr>\n",
       "  </thead>\n",
       "  <tbody>\n",
       "    <tr>\n",
       "      <th>y</th>\n",
       "      <td>27</td>\n",
       "      <td>20</td>\n",
       "    </tr>\n",
       "    <tr>\n",
       "      <th>t</th>\n",
       "      <td>23</td>\n",
       "      <td>25</td>\n",
       "    </tr>\n",
       "    <tr>\n",
       "      <th>h</th>\n",
       "      <td>20</td>\n",
       "      <td>17</td>\n",
       "    </tr>\n",
       "  </tbody>\n",
       "</table>\n",
       "</div>"
      ],
      "text/plain": [
       "    B   D\n",
       "y  27  20\n",
       "t  23  25\n",
       "h  20  17"
      ]
     },
     "execution_count": 26,
     "metadata": {},
     "output_type": "execute_result"
    }
   ],
   "source": [
    "df.iloc[1:4, [1,3]]"
   ]
  },
  {
   "cell_type": "code",
   "execution_count": 29,
   "id": "arranged-health",
   "metadata": {},
   "outputs": [
    {
     "data": {
      "text/html": [
       "<div>\n",
       "<style scoped>\n",
       "    .dataframe tbody tr th:only-of-type {\n",
       "        vertical-align: middle;\n",
       "    }\n",
       "\n",
       "    .dataframe tbody tr th {\n",
       "        vertical-align: top;\n",
       "    }\n",
       "\n",
       "    .dataframe thead th {\n",
       "        text-align: right;\n",
       "    }\n",
       "</style>\n",
       "<table border=\"1\" class=\"dataframe\">\n",
       "  <thead>\n",
       "    <tr style=\"text-align: right;\">\n",
       "      <th></th>\n",
       "      <th>B</th>\n",
       "      <th>D</th>\n",
       "    </tr>\n",
       "  </thead>\n",
       "  <tbody>\n",
       "    <tr>\n",
       "      <th>y</th>\n",
       "      <td>27</td>\n",
       "      <td>20</td>\n",
       "    </tr>\n",
       "    <tr>\n",
       "      <th>t</th>\n",
       "      <td>23</td>\n",
       "      <td>25</td>\n",
       "    </tr>\n",
       "    <tr>\n",
       "      <th>h</th>\n",
       "      <td>20</td>\n",
       "      <td>17</td>\n",
       "    </tr>\n",
       "  </tbody>\n",
       "</table>\n",
       "</div>"
      ],
      "text/plain": [
       "    B   D\n",
       "y  27  20\n",
       "t  23  25\n",
       "h  20  17"
      ]
     },
     "execution_count": 29,
     "metadata": {},
     "output_type": "execute_result"
    }
   ],
   "source": [
    "df.loc['y':'h', ['B','D']]"
   ]
  },
  {
   "cell_type": "code",
   "execution_count": 33,
   "id": "finished-click",
   "metadata": {},
   "outputs": [
    {
     "name": "stdout",
     "output_type": "stream",
     "text": [
      "A p    19\n",
      "y    28\n",
      "t    22\n",
      "h    21\n",
      "o    12\n",
      "n    21\n",
      "Name: A, dtype: int32\n",
      "******************************\n",
      "B p    28\n",
      "y    27\n",
      "t    23\n",
      "h    20\n",
      "o    13\n",
      "n    24\n",
      "Name: B, dtype: int32\n",
      "******************************\n",
      "C p    11\n",
      "y    29\n",
      "t    17\n",
      "h    17\n",
      "o    25\n",
      "n    26\n",
      "Name: C, dtype: int32\n",
      "******************************\n",
      "D p    25\n",
      "y    20\n",
      "t    25\n",
      "h    17\n",
      "o    29\n",
      "n    27\n",
      "Name: D, dtype: int32\n",
      "******************************\n"
     ]
    }
   ],
   "source": [
    "for col_name,col_data in df.iteritems():\n",
    "    print(col_name, col_data)\n",
    "    print(\"*\"*30)"
   ]
  },
  {
   "cell_type": "code",
   "execution_count": 34,
   "id": "convertible-arrangement",
   "metadata": {},
   "outputs": [
    {
     "name": "stdout",
     "output_type": "stream",
     "text": [
      "p A    19\n",
      "B    28\n",
      "C    11\n",
      "D    25\n",
      "Name: p, dtype: int32\n",
      "******************************\n",
      "y A    28\n",
      "B    27\n",
      "C    29\n",
      "D    20\n",
      "Name: y, dtype: int32\n",
      "******************************\n",
      "t A    22\n",
      "B    23\n",
      "C    17\n",
      "D    25\n",
      "Name: t, dtype: int32\n",
      "******************************\n",
      "h A    21\n",
      "B    20\n",
      "C    17\n",
      "D    17\n",
      "Name: h, dtype: int32\n",
      "******************************\n",
      "o A    12\n",
      "B    13\n",
      "C    25\n",
      "D    29\n",
      "Name: o, dtype: int32\n",
      "******************************\n",
      "n A    21\n",
      "B    24\n",
      "C    26\n",
      "D    27\n",
      "Name: n, dtype: int32\n",
      "******************************\n"
     ]
    }
   ],
   "source": [
    "for col_name,col_data in df.iterrows():\n",
    "    print(col_name, col_data)\n",
    "    print(\"*\"*30)"
   ]
  },
  {
   "cell_type": "code",
   "execution_count": 43,
   "id": "undefined-broad",
   "metadata": {},
   "outputs": [
    {
     "data": {
      "text/plain": [
       "o    12\n",
       "p    19\n",
       "h    21\n",
       "n    21\n",
       "t    22\n",
       "y    28\n",
       "Name: A, dtype: int32"
      ]
     },
     "execution_count": 43,
     "metadata": {},
     "output_type": "execute_result"
    }
   ],
   "source": [
    "df['A'].sort_values()"
   ]
  },
  {
   "cell_type": "code",
   "execution_count": 46,
   "id": "central-float",
   "metadata": {},
   "outputs": [
    {
     "data": {
      "text/plain": [
       "<AxesSubplot:>"
      ]
     },
     "execution_count": 46,
     "metadata": {},
     "output_type": "execute_result"
    },
    {
     "data": {
      "image/png": "[encoded data removed]",
      "text/plain": [
       "<Figure size 432x288 with 1 Axes>"
      ]
     },
     "metadata": {
      "needs_background": "light"
     },
     "output_type": "display_data"
    }
   ],
   "source": [
    "df['A'].plot(kind = 'bar')"
   ]
  },
  {
   "cell_type": "code",
   "execution_count": 47,
   "id": "institutional-harvest",
   "metadata": {},
   "outputs": [
    {
     "data": {
      "text/plain": [
       "<AxesSubplot:>"
      ]
     },
     "execution_count": 47,
     "metadata": {},
     "output_type": "execute_result"
    },
    {
     "data": {
      "image/png": "[encoded data removed]",
      "text/plain": [
       "<Figure size 432x288 with 1 Axes>"
      ]
     },
     "metadata": {
      "needs_background": "light"
     },
     "output_type": "display_data"
    }
   ],
   "source": [
    "df['A'].plot(kind = 'barh')"
   ]
  }
 ],
 "metadata": {
  "kernelspec": {
   "display_name": "Python 3 (ipykernel)",
   "language": "python",
   "name": "python3"
  },
  "language_info": {
   "codemirror_mode": {
    "name": "ipython",
    "version": 3
   },
   "file_extension": ".py",
   "mimetype": "text/x-python",
   "name": "python",
   "nbconvert_exporter": "python",
   "pygments_lexer": "ipython3",
   "version": "3.9.13"
  }
 },
 "nbformat": 4,
 "nbformat_minor": 5
}
